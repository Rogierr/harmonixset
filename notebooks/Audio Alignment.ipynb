{
 "cells": [
  {
   "cell_type": "markdown",
   "metadata": {},
   "source": [
    "# Audio Alignment for Harmonix Set\n",
    "\n",
    "This notebook tries to align purchased audio with original audio from Harmonix. \n",
    "\n",
    "More specifically, for each pair of audio files:\n",
    "- Load both audio files\n",
    "- Compute chromagrams\n",
    "- Use DTW to find the correct start and end points of alignment\n",
    "- Produce the new aligned mp3s from the purchased audio"
   ]
  },
  {
   "cell_type": "code",
   "execution_count": null,
   "metadata": {},
   "outputs": [],
   "source": [
    "from __future__ import print_function\n",
    "import glob\n",
    "import matplotlib.pyplot as plt\n",
    "import numpy as np\n",
    "import os\n",
    "import pandas as pd\n",
    "\n",
    "import librosa\n",
    "from librosa import display\n",
    "\n",
    "ORIG_MP3_PATH = \"/Users/onieto/Desktop/Harmonix/audio/\"\n",
    "PURC_MP3_PATH = \"/Users/onieto/Dropbox/drop/HarmonixMP3_YouTube/\"\n",
    "METADATA_TSV = \"../dataset/metadata.csv\"\n",
    "N_FFT = 2048\n",
    "HOP_SIZE = 512\n",
    "SR = 22050\n",
    "\n",
    "%matplotlib inline"
   ]
  },
  {
   "cell_type": "code",
   "execution_count": null,
   "metadata": {},
   "outputs": [],
   "source": [
    "# Load metadata\n",
    "meta_df = pd.read_csv(METADATA_TSV, sep=\",\")\n",
    "meta_df.head()"
   ]
  },
  {
   "cell_type": "code",
   "execution_count": null,
   "metadata": {},
   "outputs": [],
   "source": [
    "# Load audio\n",
    "file_id = meta_df[\"File\"].iloc[0]\n",
    "orig_path = os.path.join(ORIG_MP3_PATH, file_id + \".mp3\")\n",
    "purc_path = os.path.join(PURC_MP3_PATH, file_id + \".mp3\")\n",
    "orig_x, _ = librosa.load(orig_path, sr=SR)\n",
    "purc_x, _ = librosa.load(purc_path, sr=SR)"
   ]
  },
  {
   "cell_type": "code",
   "execution_count": null,
   "metadata": {},
   "outputs": [],
   "source": [
    "# Compute chroma features\n",
    "orig_chroma = librosa.feature.chroma_stft(y=orig_x, sr=SR, tuning=0, norm=2,\n",
    "                                          hop_length=HOP_SIZE, n_fft=N_FFT)\n",
    "purc_chroma = librosa.feature.chroma_stft(y=purc_x, sr=SR, tuning=0, norm=2,\n",
    "                                          hop_length=HOP_SIZE, n_fft=N_FFT)"
   ]
  },
  {
   "cell_type": "code",
   "execution_count": null,
   "metadata": {},
   "outputs": [],
   "source": [
    "# Apply DTW\n",
    "D, wp = librosa.sequence.dtw(X=orig_chroma, Y=purc_chroma, metric='cosine')\n",
    "wp_s = np.asarray(wp) * HOP_SIZE / SR\n",
    "\n",
    "fig = plt.figure(figsize=(10, 10))\n",
    "ax = fig.add_subplot(111)\n",
    "librosa.display.specshow(D, x_axis='time', y_axis='time',\n",
    "                         cmap='gray_r', hop_length=HOP_SIZE)\n",
    "imax = ax.imshow(D, cmap=plt.get_cmap('gray_r'),\n",
    "                 origin='lower', interpolation='nearest', aspect='auto')\n",
    "ax.plot(wp_s[:, 1], wp_s[:, 0], marker='o', color='r')\n",
    "plt.title('Warping Path on Acc. Cost Matrix $D$')\n",
    "plt.colorbar()"
   ]
  },
  {
   "cell_type": "code",
   "execution_count": null,
   "metadata": {},
   "outputs": [],
   "source": [
    "wp[::-1][:10]"
   ]
  },
  {
   "cell_type": "code",
   "execution_count": null,
   "metadata": {},
   "outputs": [],
   "source": [
    "# Reconstruct signal\n",
    "y = []\n",
    "prev_samp = 0\n",
    "for orig_i, purc_i in wp[::-1]:\n",
    "    orig_samp = orig_i * HOP_SIZE\n",
    "    y += list(purc_x[prev_samp:orig_samp])\n",
    "    prev_samp = orig_samp\n",
    "y += list(purc_x[prev_samp:prev_samp + (len(orig_x) - len(y))])"
   ]
  },
  {
   "cell_type": "code",
   "execution_count": null,
   "metadata": {},
   "outputs": [],
   "source": [
    "len(orig_x)"
   ]
  },
  {
   "cell_type": "code",
   "execution_count": null,
   "metadata": {},
   "outputs": [],
   "source": [
    "np.asarray(y).shape"
   ]
  },
  {
   "cell_type": "code",
   "execution_count": null,
   "metadata": {},
   "outputs": [],
   "source": [
    "import IPython\n",
    "IPython.display.Audio(data=y, rate=SR)"
   ]
  },
  {
   "cell_type": "code",
   "execution_count": null,
   "metadata": {},
   "outputs": [],
   "source": []
  }
 ],
 "metadata": {
  "kernelspec": {
   "display_name": "Python 3",
   "language": "python",
   "name": "python3"
  },
  "language_info": {
   "codemirror_mode": {
    "name": "ipython",
    "version": 3
   },
   "file_extension": ".py",
   "mimetype": "text/x-python",
   "name": "python",
   "nbconvert_exporter": "python",
   "pygments_lexer": "ipython3",
   "version": "3.7.3"
  }
 },
 "nbformat": 4,
 "nbformat_minor": 2
}
