{
 "cells": [
  {
   "cell_type": "markdown",
   "metadata": {},
   "source": [
    "# Audio Alignment for Harmonix Set\n",
    "\n",
    "This notebook tries to align purchased audio with original audio from Harmonix. \n",
    "\n",
    "More specifically, for each pair of audio files:\n",
    "- Load both audio files\n",
    "- Compute chromagrams\n",
    "- Use DTW to find the correct start and end points of alignment\n",
    "- Produce the new aligned mp3s from the purchased audio"
   ]
  },
  {
   "cell_type": "code",
   "execution_count": null,
   "metadata": {},
   "outputs": [],
   "source": [
    "from __future__ import print_function\n",
    "import glob\n",
    "import matplotlib.pyplot as plt\n",
    "import numpy as np\n",
    "import os\n",
    "import pandas as pd\n",
    "\n",
    "import librosa\n",
    "from librosa import display\n",
    "\n",
    "ORIG_MP3_PATH = \"/Users/onieto/Desktop/Harmonix/audio/\"\n",
    "PURC_MP3_PATH = \"/Users/onieto/Dropbox/drop/HarmonixMP3_YouTube/\"\n",
    "METADATA_TSV = \"../dataset/metadata.csv\"\n",
    "N_FFT = 4096\n",
    "HOP_SIZE = 1024\n",
    "SR = 22050\n",
    "N_MELS = 80\n",
    "\n",
    "%matplotlib inline"
   ]
  },
  {
   "cell_type": "code",
   "execution_count": null,
   "metadata": {},
   "outputs": [],
   "source": [
    "# Load metadata\n",
    "meta_df = pd.read_csv(METADATA_TSV, sep=\",\")\n",
    "meta_df.head()"
   ]
  },
  {
   "cell_type": "code",
   "execution_count": null,
   "metadata": {},
   "outputs": [],
   "source": [
    "# Load audio\n",
    "file_id = meta_df[\"File\"].iloc[7]\n",
    "print(file_id)\n",
    "orig_path = os.path.join(ORIG_MP3_PATH, file_id + \".mp3\")\n",
    "purc_path = os.path.join(PURC_MP3_PATH, file_id + \".mp3\")\n",
    "orig_x, _ = librosa.load(orig_path, sr=SR)\n",
    "purc_x, _ = librosa.load(purc_path, sr=SR)"
   ]
  },
  {
   "cell_type": "code",
   "execution_count": null,
   "metadata": {},
   "outputs": [],
   "source": [
    "orig_mel = librosa.power_to_db(librosa.feature.melspectrogram(y=orig_x, sr=SR, hop_length=HOP_SIZE, n_mels=N_MELS))\n",
    "purc_mel = librosa.power_to_db(librosa.feature.melspectrogram(y=purc_x, sr=SR, hop_length=HOP_SIZE, n_mels=N_MELS))"
   ]
  },
  {
   "cell_type": "code",
   "execution_count": null,
   "metadata": {},
   "outputs": [],
   "source": [
    "# Apply DTW\n",
    "D, wp = librosa.sequence.dtw(X=orig_mel, Y=purc_mel, metric='cosine')\n",
    "wp_s = np.asarray(wp) * HOP_SIZE / SR\n",
    "\n",
    "fig = plt.figure(figsize=(10, 10))\n",
    "ax = fig.add_subplot(111)\n",
    "librosa.display.specshow(D, x_axis='time', y_axis='time',\n",
    "                         cmap='gray_r', hop_length=HOP_SIZE)\n",
    "imax = ax.imshow(D, cmap=plt.get_cmap('gray_r'),\n",
    "                 origin='lower', interpolation='nearest', aspect='auto')\n",
    "ax.plot(wp_s[:, 1], wp_s[:, 0], marker='o', color='r')\n",
    "plt.title('Warping Path on Acc. Cost Matrix $D$')\n",
    "plt.colorbar()"
   ]
  },
  {
   "cell_type": "code",
   "execution_count": null,
   "metadata": {},
   "outputs": [],
   "source": [
    "# Reconstruct signal:\n",
    "# We basically take as many frames as the original signal and get the \n",
    "# closest to each of these frames from the purchased signal\n",
    "\n",
    "orig_dict = {}\n",
    "for w in wp[::-1]:\n",
    "    orig_dict[w[0]] = w[1]\n",
    "y = []\n",
    "for i in range(len(orig_dict)):\n",
    "    samp = orig_dict[i] * HOP_SIZE\n",
    "    y += list(purc_x[samp:samp + HOP_SIZE])\n",
    "last_samp = samp + HOP_SIZE\n",
    "y += list(purc_x[last_samp:last_samp + (len(orig_x) - len(y))])"
   ]
  },
  {
   "cell_type": "code",
   "execution_count": null,
   "metadata": {},
   "outputs": [],
   "source": [
    "import IPython\n",
    "IPython.display.Audio(data=y, rate=SR)"
   ]
  },
  {
   "cell_type": "code",
   "execution_count": null,
   "metadata": {},
   "outputs": [],
   "source": [
    "librosa.output.write_wav(\"/Users/onieto/Desktop/test2.mp3\", np.asarray(y), sr=SR)"
   ]
  }
 ],
 "metadata": {
  "kernelspec": {
   "display_name": "Python 3",
   "language": "python",
   "name": "python3"
  },
  "language_info": {
   "codemirror_mode": {
    "name": "ipython",
    "version": 3
   },
   "file_extension": ".py",
   "mimetype": "text/x-python",
   "name": "python",
   "nbconvert_exporter": "python",
   "pygments_lexer": "ipython3",
   "version": "3.7.3"
  }
 },
 "nbformat": 4,
 "nbformat_minor": 2
}
